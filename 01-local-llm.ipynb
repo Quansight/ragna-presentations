{
 "cells": [
  {
   "cell_type": "markdown",
   "id": "4068322e-24d0-49db-a092-1ef9fadbf7df",
   "metadata": {},
   "source": [
    "<img src=\"images/ragna-logo.png\" width=15% align=\"right\"/>\n",
    "\n",
    "# Set up an offline Large Language Model\n",
    "\n",
    "<hr>"
   ]
  },
  {
   "cell_type": "markdown",
   "id": "9023605d-8321-4854-8ce0-462847b479dc",
   "metadata": {
    "jp-MarkdownHeadingCollapsed": true
   },
   "source": [
    "## What is a \"local\" or \"offline\" LLM\n",
    "\n",
    "Large Language Models (LLMs) like OpenAI's GPT.\n",
    "\n",
    "Most are proprietary, need access keys. Data privacy, vendor lock-in, cost savings.\n",
    "\n",
    "Offline, local, or open weights LLMs can be self-hosted on local computers.\n",
    "\n",
    "In our case, we're running it on a cloud platform, but each machine you have access to is essentially for individual. This allows us to have a standard tutorial environment with 1 T4 GPU."
   ]
  },
  {
   "cell_type": "markdown",
   "id": "87cbb3e8-c0df-4cac-bc12-f36a87a7ba9e",
   "metadata": {},
   "source": [
    "## Mistral7BInstruct\n",
    "\n",
    "Well performing and popular model for offline usage. Learn more at [mistral.ai](https://mistral.ai/news/announcing-mistral-7b/)"
   ]
  },
  {
   "cell_type": "markdown",
   "id": "26fbc7e7-24a8-40a7-9fcf-60bcfda88451",
   "metadata": {},
   "source": [
    "### Aside: Vocabulary\n",
    "\n",
    "* Quantization\n",
    "* Inference"
   ]
  },
  {
   "cell_type": "markdown",
   "id": "4018c61f-65a8-4461-866c-4a609765a563",
   "metadata": {},
   "source": [
    "## Exllamav2\n",
    "\n",
    "TODO: Steps to run the LLM locally. Note, do not introduce RAG yet."
   ]
  },
  {
   "cell_type": "markdown",
   "id": "7c2e88ab-3934-44d4-87a2-b01c32457af0",
   "metadata": {},
   "source": [
    "<hr>\n",
    "\n",
    "**✨ Next: [TODO] →**\n",
    "\n",
    "<hr>"
   ]
  },
  {
   "cell_type": "code",
   "execution_count": null,
   "id": "b06613cd-876d-4804-9da5-6bfaac912ad5",
   "metadata": {},
   "outputs": [],
   "source": []
  }
 ],
 "metadata": {
  "kernelspec": {
   "display_name": "Python 3 (ipykernel)",
   "language": "python",
   "name": "python3"
  },
  "language_info": {
   "codemirror_mode": {
    "name": "ipython",
    "version": 3
   },
   "file_extension": ".py",
   "mimetype": "text/x-python",
   "name": "python",
   "nbconvert_exporter": "python",
   "pygments_lexer": "ipython3",
   "version": "3.11.8"
  }
 },
 "nbformat": 4,
 "nbformat_minor": 5
}
