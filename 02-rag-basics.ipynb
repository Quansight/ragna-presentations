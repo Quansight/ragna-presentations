{
 "cells": [
  {
   "cell_type": "markdown",
   "id": "15bbda72-2f2a-43d3-a3ed-b7f8c2f244a9",
   "metadata": {},
   "source": [
    "<img src=\"images/ragna-logo.png\" width=25% align=\"right\"/>\n",
    "\n",
    "# Basics of RAG-powered chat app\n",
    "\n",
    "<hr>"
   ]
  },
  {
   "cell_type": "markdown",
   "id": "feba6e1b-e8ad-47c9-a9e4-48648fd476f1",
   "metadata": {},
   "source": [
    "## What is RAG?\n",
    "\n",
    "LLMs are trained on vast but static datasets:\n",
    "\n",
    "<img src=\"images/chatgpt-what-is-numfocus.png\" width=60%/>\n",
    "\n",
    "RAG is a method to augment foundational LLMs with fresh data and to reduce hallucinations and get around the limited space available in an LLM prompt (around 3,000 works for ChatGPT 3.5) \n",
    "\n",
    "<img src=\"images/RAG-new.png\" width=60%/>"
   ]
  },
  {
   "cell_type": "markdown",
   "id": "9bf4e7b9-74fb-4325-adbd-ceb6f44eda45",
   "metadata": {},
   "source": [
    "TODO: Popular LLMs and source storage options"
   ]
  },
  {
   "cell_type": "markdown",
   "id": "f4a1f1a5-cdef-4349-a69d-44cf0d81c487",
   "metadata": {
    "jp-MarkdownHeadingCollapsed": true
   },
   "source": [
    "## What is Ragna?\n",
    "\n",
    "Open source library for RAG Orchestration with a Python API, REST API, and web UI.\n",
    "\n",
    "<img src=\"images/ragna-architecture.png\" width=80%/>"
   ]
  },
  {
   "cell_type": "markdown",
   "id": "94d45748-b244-4104-bc9a-3b744b4d10c9",
   "metadata": {},
   "source": [
    "## Build a chat function"
   ]
  },
  {
   "cell_type": "markdown",
   "id": "b96f3695-9e43-4b1a-8d33-649f3c4449ec",
   "metadata": {},
   "source": [
    "### Step 1: Relevant documents"
   ]
  },
  {
   "cell_type": "markdown",
   "id": "14b187fe-31f6-449a-bfec-bc3398dd43af",
   "metadata": {
    "editable": true,
    "slideshow": {
     "slide_type": ""
    },
    "tags": []
   },
   "source": [
    "Annual report from the Python Software Foundation and NumFOCUS."
   ]
  },
  {
   "cell_type": "code",
   "execution_count": 1,
   "id": "b9865ffb-8436-4856-a46a-6f4448ed7d37",
   "metadata": {
    "editable": true,
    "execution": {
     "iopub.execute_input": "2024-04-18T08:01:06.903920Z",
     "iopub.status.busy": "2024-04-18T08:01:06.903665Z",
     "iopub.status.idle": "2024-04-18T08:01:06.911961Z",
     "shell.execute_reply": "2024-04-18T08:01:06.910941Z",
     "shell.execute_reply.started": "2024-04-18T08:01:06.903898Z"
    },
    "slideshow": {
     "slide_type": ""
    },
    "tags": []
   },
   "outputs": [],
   "source": [
    "documents = [\n",
    "    \"files/what-is-ragna.txt\",\n",
    "    \"files/psf-report-2022.pdf\",\n",
    "    \"files/numfocus-report-2023.pdf\",\n",
    "]"
   ]
  },
  {
   "cell_type": "markdown",
   "id": "b649a183-e6d9-4f92-96b1-c89d962fb3ca",
   "metadata": {},
   "source": [
    "### Step 2: Ragna configuration"
   ]
  },
  {
   "cell_type": "markdown",
   "id": "8cec7c65-7741-46ed-8454-115f97424784",
   "metadata": {},
   "source": [
    "Get an API key at https://platform.openai.com/api-keys\n",
    "\n",
    "Or, use the API key provided below:"
   ]
  },
  {
   "cell_type": "code",
   "execution_count": 3,
   "id": "41b1c124-88ea-48ad-99bd-edd8a12d3656",
   "metadata": {
    "execution": {
     "iopub.execute_input": "2024-04-18T08:01:11.349808Z",
     "iopub.status.busy": "2024-04-18T08:01:11.349444Z",
     "iopub.status.idle": "2024-04-18T08:01:12.354298Z",
     "shell.execute_reply": "2024-04-18T08:01:12.353429Z",
     "shell.execute_reply.started": "2024-04-18T08:01:11.349784Z"
    }
   },
   "outputs": [],
   "source": [
    "!export OPENAI_API_KEY=\"XXX\""
   ]
  },
  {
   "cell_type": "markdown",
   "id": "b0fd85f3-02d4-4b6f-a045-2495fce37c31",
   "metadata": {},
   "source": [
    "Update the `ragna.toml` file with your Nebari username (TODO)"
   ]
  },
  {
   "cell_type": "markdown",
   "id": "edae7dd0-bd7e-466d-bd47-7aa2a355e1a6",
   "metadata": {
    "editable": true,
    "tags": []
   },
   "source": [
    "Using the configuration file, you can set the assistants, source storages, API endpoints, etc."
   ]
  },
  {
   "cell_type": "markdown",
   "id": "7e778ed8-3b35-48e0-9a01-ac17937b05fa",
   "metadata": {},
   "source": [
    "### Step 3: Select assistants and source storage\n",
    "\n",
    "🔗 [Check the available assistants in the docs](https://ragna.chat/en/stable/generated/tutorials/gallery_python_api/#step-3-select-an-assistant)"
   ]
  },
  {
   "cell_type": "code",
   "execution_count": 4,
   "id": "cc4d44b6-8d52-4e5e-a5e1-da566cea4407",
   "metadata": {
    "editable": true,
    "execution": {
     "iopub.execute_input": "2024-04-18T08:01:14.816530Z",
     "iopub.status.busy": "2024-04-18T08:01:14.816209Z",
     "iopub.status.idle": "2024-04-18T08:01:19.899109Z",
     "shell.execute_reply": "2024-04-18T08:01:19.898520Z",
     "shell.execute_reply.started": "2024-04-18T08:01:14.816500Z"
    },
    "slideshow": {
     "slide_type": ""
    },
    "tags": []
   },
   "outputs": [],
   "source": [
    "from ragna.assistants import Gpt35Turbo16k, Gpt4\n",
    "from ragna.source_storages import Chroma, LanceDB\n",
    "\n",
    "from ragna import Rag"
   ]
  },
  {
   "cell_type": "code",
   "execution_count": 5,
   "id": "de4c14ab-d1e6-4c0a-a060-7dbefe10de15",
   "metadata": {
    "execution": {
     "iopub.execute_input": "2024-04-18T08:01:19.900554Z",
     "iopub.status.busy": "2024-04-18T08:01:19.900186Z",
     "iopub.status.idle": "2024-04-18T08:01:19.903680Z",
     "shell.execute_reply": "2024-04-18T08:01:19.903139Z",
     "shell.execute_reply.started": "2024-04-18T08:01:19.900532Z"
    }
   },
   "outputs": [],
   "source": [
    "rag = Rag()"
   ]
  },
  {
   "cell_type": "markdown",
   "id": "85a4c3dc-2474-430c-be12-ec13b41458e0",
   "metadata": {},
   "source": [
    "### Step 4: Start chat"
   ]
  },
  {
   "cell_type": "code",
   "execution_count": null,
   "id": "6eb51db8-c455-416e-acd5-0d6888fde5ad",
   "metadata": {
    "editable": true,
    "slideshow": {
     "slide_type": ""
    },
    "tags": []
   },
   "outputs": [],
   "source": [
    "chat_gpt = rag.chat(documents=documents, \n",
    "                source_storage=Chroma,\n",
    "                assistant=Gpt4,\n",
    "               )\n",
    "\n",
    "await chat_gpt.prepare()"
   ]
  },
  {
   "cell_type": "markdown",
   "id": "bea0f42c-d1fc-4e0f-899f-83a1e156557d",
   "metadata": {},
   "source": [
    "### Step 5: Ask questions"
   ]
  },
  {
   "cell_type": "code",
   "execution_count": null,
   "id": "465bd78f-b700-43ec-923c-13329e725f05",
   "metadata": {
    "editable": true,
    "slideshow": {
     "slide_type": ""
    },
    "tags": []
   },
   "outputs": [],
   "source": [
    "answer = await chat_gpt.answer(\"What is Ragna?\")\n",
    "print(f\"\\nLLM Response: \\n\\n{answer.content}\")"
   ]
  },
  {
   "cell_type": "markdown",
   "id": "1c1f4dab-4a4c-49af-92af-ab3fbd675169",
   "metadata": {
    "editable": true,
    "slideshow": {
     "slide_type": "slide"
    },
    "tags": []
   },
   "source": [
    "Lets look at the sources used:"
   ]
  },
  {
   "cell_type": "code",
   "execution_count": null,
   "id": "e68c8887-b10d-4b21-bea1-fa950534387d",
   "metadata": {
    "editable": true,
    "slideshow": {
     "slide_type": ""
    },
    "tags": []
   },
   "outputs": [],
   "source": [
    "print(answer.sources[0])"
   ]
  },
  {
   "cell_type": "code",
   "execution_count": null,
   "id": "35313b3f-913d-4393-b310-b1b866d4921e",
   "metadata": {},
   "outputs": [],
   "source": [
    "answer = await chat_gpt.answer(\"How many projects are sponsored by NumFOCUS?\")\n",
    "print(f\"\\nLLM Response: \\n\\n{answer.content}\")"
   ]
  },
  {
   "cell_type": "markdown",
   "id": "0fedd4e7-95a5-4cc3-a97f-a9ed7ea562b6",
   "metadata": {},
   "source": [
    "<hr>\n",
    "\n",
    "**✨ Next: [Use Local LLM with Ragna](03-RAG-local-llm.ipynb) →**\n",
    "\n",
    "<hr>"
   ]
  },
  {
   "cell_type": "code",
   "execution_count": null,
   "id": "c8f52a32-b511-4971-a20f-60e5f7dc7c10",
   "metadata": {},
   "outputs": [],
   "source": []
  }
 ],
 "metadata": {
  "kernelspec": {
   "display_name": "peswaramoorthy@quansight.com-peswaramoorthy@quansight.com-pycon-de",
   "language": "python",
   "name": "conda-env-peswaramoorthy_quansight.com-peswaramoorthy_quansight.com-pycon-de-py"
  },
  "language_info": {
   "codemirror_mode": {
    "name": "ipython",
    "version": 3
   },
   "file_extension": ".py",
   "mimetype": "text/x-python",
   "name": "python",
   "nbconvert_exporter": "python",
   "pygments_lexer": "ipython3",
   "version": "3.11.8"
  }
 },
 "nbformat": 4,
 "nbformat_minor": 5
}
