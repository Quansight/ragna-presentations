{
 "cells": [
  {
   "cell_type": "markdown",
   "metadata": {},
   "source": [
    "<img src=\"images/ragna-logo.png\" width=30% align=\"right\"/>\n",
    "\n",
    "# Build an AI Document Inquiry Chat with Offline LLMs\n",
    "\n",
    "**Tutorial at PyCon DE & PyData Berlin 2024**\n",
    "\n",
    "**Room: A05-A06**\n",
    "\n",
    "<hr>"
   ]
  },
  {
   "cell_type": "markdown",
   "metadata": {},
   "source": [
    "<img src=\"images/ragna-web-ui.gif\" width=80% />"
   ]
  },
  {
   "cell_type": "markdown",
   "metadata": {},
   "source": [
    "## Presented by 👩🏻‍🏫\n",
    "\n",
    "<img src=\"images/quansight.png\" width=35% align=\"right\"/>\n",
    "\n",
    "* Philip Meier, Senior Software Engineer at Quansight and creator of Ragna\n",
    "* Pavithra Eswaramoorthy, Developer Advocate at Quansight\n",
    "\n",
    "## Setup 🧑‍💻\n",
    "\n",
    "1. Go to <link to Nebari>\n",
    "2. Sign-in with <username> and <password>\n",
    "3. Open the terminal, and clone the repository: `git clone https://github.com/Quansight/ragna-presentations`\n",
    "4. In the left sidebar, navigate to `00-introduction.ipynb`\n",
    "5. Follow along!\n",
    "\n",
    "### Aside: What is Nebari - the platform we're using?\n",
    "\n",
    "It's an open source data science platform. It is quick to deploy (by anyone) and ships with several useful features like environment management and dashboard deployment.\n",
    "\n",
    "🔗 Learn more: [nebari.dev](https://nebari.dev)"
   ]
  },
  {
   "cell_type": "markdown",
   "metadata": {},
   "source": [
    "## Today's goals 🎯\n",
    "\n",
    "<!-- TODO: Update at the end -->\n",
    "\n",
    "* Build some quick chat functions with Ragna's Python API\n",
    "* Experiment with different LLMs\n",
    "* Use a local LLM\n",
    "* Explore the REST API and Panel-based web UI"
   ]
  },
  {
   "cell_type": "markdown",
   "metadata": {},
   "source": [
    "<hr>\n",
    "\n",
    "**✨ Next: [Let's get started with RAG](./02-basic-chat.ipynb) →**\n",
    "\n",
    "<hr>"
   ]
  },
  {
   "cell_type": "code",
   "execution_count": null,
   "metadata": {},
   "outputs": [],
   "source": []
  }
 ],
 "metadata": {
  "kernelspec": {
   "display_name": "Python 3 (ipykernel)",
   "language": "python",
   "name": "python3"
  },
  "language_info": {
   "codemirror_mode": {
    "name": "ipython",
    "version": 3
   },
   "file_extension": ".py",
   "mimetype": "text/x-python",
   "name": "python",
   "nbconvert_exporter": "python",
   "pygments_lexer": "ipython3",
   "version": "3.11.8"
  }
 },
 "nbformat": 4,
 "nbformat_minor": 4
}
