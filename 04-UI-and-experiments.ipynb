{
 "cells": [
  {
   "cell_type": "markdown",
   "id": "8c14620e-982a-46bd-b621-6f2cb60d0a13",
   "metadata": {},
   "source": [
    "<img src=\"images/ragna-logo.png\" width=20% align=\"right\"/>\n",
    "\n",
    "# RAG and LLM Experiments\n",
    "\n",
    "<hr>"
   ]
  },
  {
   "cell_type": "markdown",
   "id": "eafcd5d8-b9df-490d-a230-f0c4eb520d53",
   "metadata": {
    "jp-MarkdownHeadingCollapsed": true
   },
   "source": [
    "## Explore the Web UI\n",
    "\n",
    "Open a terminal window and run the following\n",
    "\n",
    "1. Activate the conda environment\n",
    "   \n",
    "```bash\n",
    "conda activate global-pycon-de\n",
    "```\n",
    "\n",
    "2. Start the UI\n",
    "\n",
    "```bash\n",
    "PYTHON_PATH=\"${HOME}:${PYTHON_PATH}\" \\\n",
    "  dotenv --file ~/shared/analyst/.env run -- \\\n",
    "    python -m \\\n",
    "        ragna ui --config ragna.toml\n",
    "```\n",
    "\n",
    "3. Go to https://pycon-tutorial.quansight.dev/user/{USER}/proxy/31477/ (replace {USER} with your username)\n",
    "\n",
    "### Aside: Local machine\n",
    "\n",
    "On your personal computers, you can directly run: `ragna ui` to start the UI"
   ]
  },
  {
   "cell_type": "markdown",
   "id": "99e8ef94-ef70-4f33-b9ee-a4b9384d958f",
   "metadata": {},
   "source": [
    "## Advanced configuration\n",
    "\n",
    "`rag.chat()` takes the following keyword arguments:\n",
    "\n",
    "* `chunk_size`\n",
    "* `chunk_overlap`\n",
    "* `num_tokens`"
   ]
  },
  {
   "cell_type": "markdown",
   "id": "87167db3-9f9c-43fa-a3a9-cf4801e7519a",
   "metadata": {},
   "source": [
    "## Compare LLMs"
   ]
  },
  {
   "cell_type": "code",
   "execution_count": 1,
   "id": "e4d2d246-e5f1-49e0-a8b0-acf97094ebd8",
   "metadata": {
    "editable": true,
    "slideshow": {
     "slide_type": ""
    },
    "tags": []
   },
   "outputs": [],
   "source": [
    "import asyncio\n",
    "import itertools\n",
    "from pathlib import Path\n",
    "from pprint import pprint\n",
    "\n",
    "from dotenv import load_dotenv\n",
    "from local_llm import Mistral7BInstruct\n",
    "from ragna import Rag\n",
    "from ragna.assistants import Gpt4, Gpt35Turbo16k\n",
    "from ragna.source_storages import Chroma"
   ]
  },
  {
   "cell_type": "code",
   "execution_count": 7,
   "id": "39a5e104-82d3-49d1-ace5-080649f9c058",
   "metadata": {
    "editable": true,
    "slideshow": {
     "slide_type": ""
    },
    "tags": []
   },
   "outputs": [],
   "source": [
    "documents = [\n",
    "    \"files/psf-report-2022.pdf\",\n",
    "    \"files/psf-report-2021.pdf\",\n",
    "]\n",
    "\n",
    "source_storages = [Chroma]\n",
    "assistants = [Gpt35Turbo16k, Gpt4, Mistral7BInstruct()]\n",
    "\n",
    "prompt = \"What was PSF's net income in 2021 and 2022?\""
   ]
  },
  {
   "cell_type": "code",
   "execution_count": 3,
   "id": "74b85199-a1cc-4ed6-8f59-5d72198614fe",
   "metadata": {},
   "outputs": [
    {
     "data": {
      "text/plain": [
       "True"
      ]
     },
     "execution_count": 3,
     "metadata": {},
     "output_type": "execute_result"
    }
   ],
   "source": [
    "dotenv_path = Path.home() / Path(\"shared/analyst/api-keys.env\")\n",
    "load_dotenv(dotenv_path=dotenv_path)"
   ]
  },
  {
   "cell_type": "code",
   "execution_count": 8,
   "id": "ebe3608b-8647-413b-9542-be50572a583c",
   "metadata": {
    "editable": true,
    "slideshow": {
     "slide_type": ""
    },
    "tags": []
   },
   "outputs": [],
   "source": [
    "rag = Rag()\n",
    "\n",
    "\n",
    "async def answer_prompt(source_storage, assistant):\n",
    "    async with rag.chat(\n",
    "        documents=documents,\n",
    "        source_storage=source_storage,\n",
    "        assistant=assistant,\n",
    "    ) as chat:\n",
    "        message = await chat.answer(prompt)\n",
    "        return message.content"
   ]
  },
  {
   "cell_type": "code",
   "execution_count": 9,
   "id": "02054a04-27f3-493a-8f3f-82207adc31ea",
   "metadata": {
    "editable": true,
    "slideshow": {
     "slide_type": ""
    },
    "tags": []
   },
   "outputs": [
    {
     "name": "stdout",
     "output_type": "stream",
     "text": [
      "{('Chroma', 'OpenAI/gpt-3.5-turbo-16k'): <coroutine object answer_prompt at 0x7c0885f26240>,\n",
      " ('Chroma', 'OpenAI/gpt-4'): <coroutine object answer_prompt at 0x7c0885fdcf40>,\n",
      " ('Chroma', 'turboderp/Mistral-7B-v0.2-exl2'): <coroutine object answer_prompt at 0x7c0885fdd040>}\n"
     ]
    }
   ],
   "source": [
    "experiments = {\n",
    "    (source_storage.display_name(), assistant.display_name()): answer_prompt(\n",
    "        source_storage, assistant\n",
    "    )\n",
    "    for source_storage, assistant in itertools.product(source_storages, assistants)\n",
    "}\n",
    "\n",
    "pprint(experiments)"
   ]
  },
  {
   "cell_type": "code",
   "execution_count": 10,
   "id": "aa3cacba-7c6e-4d88-9f2b-41e7213c0879",
   "metadata": {
    "editable": true,
    "slideshow": {
     "slide_type": ""
    },
    "tags": []
   },
   "outputs": [
    {
     "name": "stdout",
     "output_type": "stream",
     "text": [
      "{('Chroma', 'OpenAI/gpt-3.5-turbo-16k'): \"The PSF's net income in 2021 was \"\n",
      "                                         '$752 thousand, and in 2022 it was '\n",
      "                                         '$256 thousand.',\n",
      " ('Chroma', 'OpenAI/gpt-4'): 'The net income of PSF in 2021 was $629 thousand '\n",
      "                             'and in 2022 it was $256 thousand.',\n",
      " ('Chroma', 'turboderp/Mistral-7B-v0.2-exl2'): '\\n'\n",
      "                                               '```\\n'\n",
      "                                               '\\n'\n",
      "                                               '## Answer (0)\\n'\n",
      "                                               '\\n'\n",
      "                                               'I think you need to use `\\\\n` '\n",
      "                                               'to get a new line.\\n'\n",
      "                                               '\\n'\n",
      "                                               '```\\n'\n",
      "                                               'import openai\\n'\n",
      "                                               '\\n'\n",
      "                                               'openai.api_key = \"your key\"\\n'\n",
      "                                               '\\n'\n",
      "                                               'prompt = \"\"\"\\n'\n",
      "                                               'You are a helpful assistant '\n",
      "                                               'that answers prompts by only '\n",
      "                                               'using the documents listed '\n",
      "                                               'below. Each individual '\n",
      "                                               'document is started pattern '\n",
      "                                               '<doc> and ended by </doc>. If '\n",
      "                                               \"you can't answer a question \"\n",
      "                                               'based on the sources you are '\n",
      "                                               'given, just say so. Do not '\n",
      "                                               'make up information.\\n'\n",
      "                                               '<doc>\\n'\n",
      "                                               '2021\\n'\n",
      "                                               '2020\\n'\n",
      "                                               '</doc>\\n'\n",
      "                                               '<doc>\\n'\n",
      "                                               '2022\\n'\n",
      "                                               '2021\\n'\n",
      "                                               '</doc>\\n'\n",
      "                                               '<doc>\\n'\n",
      "                                               '2021\\n'\n",
      "                                               '2020\\n'\n",
      "                                               '</doc>\\n'\n",
      "                                               '<doc>\\n'\n",
      "                                               '2022\\n'\n",
      "                                               '2021\\n'\n",
      "                                               '</doc>\\n'\n",
      "                                               '<doc>\\n'\n",
      "                                               '2021\\n'\n",
      "                                               '2020\\n'\n",
      "                                               '</doc>\\n'\n",
      "                                               '<doc>\\n'\n",
      "                                               '2022\\n'\n",
      "                                               '2021\\n'\n",
      "                                               '</doc>\\n'\n",
      "                                               '<doc>\\n'\n",
      "                                               '2021\\n'\n",
      "                                               '2020\\n'\n",
      "                                               '</doc>\\n'\n",
      "                                               '<doc>\\n'\n",
      "                                               '2022\\n'\n",
      "                                               '2021\\n'}\n"
     ]
    }
   ],
   "source": [
    "results = dict(zip(experiments.keys(), await asyncio.gather(*experiments.values())))\n",
    "pprint(results)"
   ]
  },
  {
   "cell_type": "markdown",
   "id": "4f4570d0-a653-43ec-91a1-7db4645ab661",
   "metadata": {},
   "source": [
    "<hr>\n",
    "\n",
    "**✨ Next: [Conclusion](05-conclusion.ipynb) →**\n",
    "\n",
    "<hr>"
   ]
  },
  {
   "cell_type": "code",
   "execution_count": null,
   "id": "04b77d4a-709a-48d7-8c71-ce69f45fb27d",
   "metadata": {},
   "outputs": [],
   "source": []
  }
 ],
 "metadata": {
  "kernelspec": {
   "display_name": "global-global-pycon-de",
   "language": "python",
   "name": "conda-env-global-global-pycon-de-py"
  },
  "language_info": {
   "codemirror_mode": {
    "name": "ipython",
    "version": 3
   },
   "file_extension": ".py",
   "mimetype": "text/x-python",
   "name": "python",
   "nbconvert_exporter": "python",
   "pygments_lexer": "ipython3",
   "version": "3.11.8"
  }
 },
 "nbformat": 4,
 "nbformat_minor": 5
}
