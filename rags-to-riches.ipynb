{
 "cells": [
  {
   "cell_type": "markdown",
   "id": "f227552a-ddac-43f6-9dd1-adf6a1478a2d",
   "metadata": {
    "editable": true,
    "slideshow": {
     "slide_type": "slide"
    },
    "tags": []
   },
   "source": [
    "# From RAGs to riches: Build an AI document interrogation app in 30 mins\n",
    "\n",
    "PyData NYC 2023 | Dharhas Pothina\n",
    "\n",
    "---"
   ]
  },
  {
   "attachments": {},
   "cell_type": "markdown",
   "id": "126dee28-e630-4e57-825b-36c8ac39cbfa",
   "metadata": {
    "editable": true,
    "slideshow": {
     "slide_type": "slide"
    },
    "tags": []
   },
   "source": [
    "## Hi! I'm Dharhas 👋\n",
    "\n",
    "TODO"
   ]
  },
  {
   "cell_type": "markdown",
   "id": "4c088c40-3570-43db-8f1a-f823818e2c8f",
   "metadata": {
    "editable": true,
    "slideshow": {
     "slide_type": "slide"
    },
    "tags": []
   },
   "source": [
    "## Goal - Build this app\n",
    "\n",
    "TODO: Demonstrate the final app for initial motivation"
   ]
  },
  {
   "cell_type": "markdown",
   "id": "d76917f0-d203-4a9d-8e74-2b443a91545a",
   "metadata": {
    "editable": true,
    "slideshow": {
     "slide_type": "slide"
    },
    "tags": []
   },
   "source": [
    "## RAG - Make LLMs more useful\n",
    "\n",
    "TODO: What is RAG?"
   ]
  },
  {
   "cell_type": "markdown",
   "id": "4183d784-8f41-4160-9abd-46da662b5de6",
   "metadata": {
    "editable": true,
    "slideshow": {
     "slide_type": "slide"
    },
    "tags": []
   },
   "source": [
    "## Tools\n",
    "\n",
    "### Ragna\n",
    "\n",
    "(TODO: Logo, what is Ragna?)\n",
    "\n",
    "### Panel\n",
    "\n",
    "(TODO: Logo, what is Panel?)"
   ]
  },
  {
   "cell_type": "markdown",
   "id": "a86ca0a0-0634-4735-87e3-765ecc4f424f",
   "metadata": {
    "editable": true,
    "slideshow": {
     "slide_type": "slide"
    },
    "tags": []
   },
   "source": [
    "## Setup"
   ]
  },
  {
   "cell_type": "code",
   "execution_count": null,
   "id": "19a52f46-593d-418d-bc63-8c6f15887bbb",
   "metadata": {
    "editable": true,
    "slideshow": {
     "slide_type": ""
    },
    "tags": []
   },
   "outputs": [],
   "source": [
    "# TODO"
   ]
  },
  {
   "cell_type": "markdown",
   "id": "654ee651-44ad-459d-a7c9-1a3d8e724287",
   "metadata": {
    "editable": true,
    "slideshow": {
     "slide_type": "slide"
    },
    "tags": []
   },
   "source": [
    "## Ragna 101"
   ]
  },
  {
   "cell_type": "code",
   "execution_count": null,
   "id": "b62bf21f-3829-41fe-8550-896f4fa514ed",
   "metadata": {
    "editable": true,
    "slideshow": {
     "slide_type": ""
    },
    "tags": []
   },
   "outputs": [],
   "source": [
    "# TODO: Asssitant, Source Storage, RAG, Chat, AsyncIO"
   ]
  },
  {
   "cell_type": "code",
   "execution_count": null,
   "id": "67c20c35-3a74-49a8-bf05-67a4df3854f5",
   "metadata": {
    "editable": true,
    "slideshow": {
     "slide_type": ""
    },
    "tags": []
   },
   "outputs": [],
   "source": [
    "# TODO: REST API"
   ]
  },
  {
   "cell_type": "markdown",
   "id": "13d4ce61-fc66-49e0-9499-4cd7bb73793a",
   "metadata": {
    "editable": true,
    "slideshow": {
     "slide_type": "slide"
    },
    "tags": []
   },
   "source": [
    "## Panel 101"
   ]
  },
  {
   "cell_type": "code",
   "execution_count": null,
   "id": "ca02fedd-69aa-4d7b-9971-b58871712e58",
   "metadata": {
    "editable": true,
    "slideshow": {
     "slide_type": ""
    },
    "tags": []
   },
   "outputs": [],
   "source": [
    "# TODO"
   ]
  },
  {
   "cell_type": "markdown",
   "id": "87996bb4-aa2b-44d0-ab84-348663afc18f",
   "metadata": {
    "editable": true,
    "slideshow": {
     "slide_type": ""
    },
    "tags": []
   },
   "source": [
    "## Let's build the app!"
   ]
  },
  {
   "cell_type": "code",
   "execution_count": null,
   "id": "169e560a-a7f8-43d7-b3f5-b06797c0a45f",
   "metadata": {
    "editable": true,
    "slideshow": {
     "slide_type": ""
    },
    "tags": []
   },
   "outputs": [],
   "source": [
    "# TODO"
   ]
  },
  {
   "cell_type": "markdown",
   "id": "c8fdda46-bd63-40e0-8562-913c743335c5",
   "metadata": {
    "editable": true,
    "slideshow": {
     "slide_type": "slide"
    },
    "tags": []
   },
   "source": [
    "## Thanks! Question?\n",
    "\n",
    "Check out: **ragna.chat**\n",
    "\n",
    "Share your feedback!"
   ]
  },
  {
   "cell_type": "code",
   "execution_count": null,
   "id": "d6041caf-377b-4110-8c9a-6c2229524e0d",
   "metadata": {
    "editable": true,
    "slideshow": {
     "slide_type": ""
    },
    "tags": []
   },
   "outputs": [],
   "source": []
  }
 ],
 "metadata": {
  "kernelspec": {
   "display_name": "Python 3 (ipykernel)",
   "language": "python",
   "name": "python3"
  },
  "language_info": {
   "codemirror_mode": {
    "name": "ipython",
    "version": 3
   },
   "file_extension": ".py",
   "mimetype": "text/x-python",
   "name": "python",
   "nbconvert_exporter": "python",
   "pygments_lexer": "ipython3",
   "version": "3.9.18"
  }
 },
 "nbformat": 4,
 "nbformat_minor": 5
}
