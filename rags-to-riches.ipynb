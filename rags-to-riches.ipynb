{
 "cells": [
  {
   "cell_type": "markdown",
   "id": "f227552a-ddac-43f6-9dd1-adf6a1478a2d",
   "metadata": {
    "editable": true,
    "slideshow": {
     "slide_type": "slide"
    },
    "tags": []
   },
   "source": [
    "# From RAGs to riches: Build an AI document interrogation app in 30 mins\n",
    "\n",
    "Dharhas Pothina | PyData NYC 2023\n",
    "\n",
    "---"
   ]
  },
  {
   "attachments": {},
   "cell_type": "markdown",
   "id": "126dee28-e630-4e57-825b-36c8ac39cbfa",
   "metadata": {
    "editable": true,
    "slideshow": {
     "slide_type": "slide"
    },
    "tags": []
   },
   "source": [
    "## Hi! I'm Dharhas 👋\n",
    "\n",
    "CTO at Quansight"
   ]
  },
  {
   "cell_type": "markdown",
   "id": "f59f4e23-6682-40ee-9575-10649a08d5e7",
   "metadata": {
    "editable": true,
    "slideshow": {
     "slide_type": ""
    },
    "tags": []
   },
   "source": [
    "<!-- ![caption](images/viking_boat_desk.jpg) -->\n",
    "\n",
    "\n",
    "<img src=\"images/viking_boat_desk.jpg\" width=50%/>"
   ]
  },
  {
   "cell_type": "markdown",
   "id": "4c088c40-3570-43db-8f1a-f823818e2c8f",
   "metadata": {
    "editable": true,
    "jp-MarkdownHeadingCollapsed": true,
    "slideshow": {
     "slide_type": "slide"
    },
    "tags": []
   },
   "source": [
    "## Today's goal: Build this!\n",
    "\n",
    "**TODO (opitonal): Screenshot of the final app for initial motivation**"
   ]
  },
  {
   "cell_type": "markdown",
   "id": "d76917f0-d203-4a9d-8e74-2b443a91545a",
   "metadata": {
    "editable": true,
    "slideshow": {
     "slide_type": "slide"
    },
    "tags": []
   },
   "source": [
    "## Retrieval-Augmented Generation (RAG): Make LLMs more useful"
   ]
  },
  {
   "cell_type": "markdown",
   "id": "a8e6f90d-650b-45f1-a171-cc648defcb38",
   "metadata": {
    "editable": true,
    "slideshow": {
     "slide_type": "slide"
    },
    "tags": []
   },
   "source": [
    "LLMs are trained on vast datasets, which has a drawback: hallucination.\n",
    "\n",
    "<img src=\"images/chatgpt_what_is_ragna.png\"/>"
   ]
  },
  {
   "cell_type": "markdown",
   "id": "77434385-6bfe-43b2-9c4d-ebfd726e41f2",
   "metadata": {
    "editable": true,
    "slideshow": {
     "slide_type": "slide"
    },
    "tags": []
   },
   "source": [
    "RAG is a framework to minimize hallucinations:\n",
    "\n",
    "<img src=\"images/RAG.png\"/>"
   ]
  },
  {
   "cell_type": "markdown",
   "id": "18e1bb6a-72ec-44dd-882c-cfd3cf459c84",
   "metadata": {
    "editable": true,
    "slideshow": {
     "slide_type": "slide"
    },
    "tags": []
   },
   "source": [
    "## Let's get started!"
   ]
  },
  {
   "cell_type": "markdown",
   "id": "1fd78561-d581-415a-909f-c16fe20a9f0d",
   "metadata": {
    "editable": true,
    "slideshow": {
     "slide_type": "slide"
    },
    "tags": []
   },
   "source": [
    "### We'll be using:"
   ]
  },
  {
   "cell_type": "markdown",
   "id": "81ad0ef0-6521-4001-bdee-fb544f42cfac",
   "metadata": {
    "editable": true,
    "slideshow": {
     "slide_type": ""
    },
    "tags": []
   },
   "source": [
    "<img src=\"images/ragna-logo.png\" width=55%/>\n",
    "\n",
    "RAG orchestration framework designed to scale from research to production.\n",
    "\n",
    "<br>\n",
    "\n",
    "<img src=\"images/panel-logo.png\" width=50%/>\n",
    "\n",
    "Powerful interactive dashboard and application development framework."
   ]
  },
  {
   "cell_type": "markdown",
   "id": "5e1d5685-e3cb-4dff-9f52-69027e32bfde",
   "metadata": {
    "editable": true,
    "slideshow": {
     "slide_type": "slide"
    },
    "tags": []
   },
   "source": [
    "### 1. Provide relevant data"
   ]
  },
  {
   "cell_type": "markdown",
   "id": "14b187fe-31f6-449a-bfec-bc3398dd43af",
   "metadata": {
    "editable": true,
    "slideshow": {
     "slide_type": ""
    },
    "tags": []
   },
   "source": [
    "10-K reports from Ford, GM, and Tesla, as well as a file describing Ragna:"
   ]
  },
  {
   "cell_type": "code",
   "execution_count": null,
   "id": "b9865ffb-8436-4856-a46a-6f4448ed7d37",
   "metadata": {
    "editable": true,
    "slideshow": {
     "slide_type": ""
    },
    "tags": []
   },
   "outputs": [],
   "source": [
    "documents = [\n",
    "    \"files/what-is-ragna.txt\",\n",
    "    \"files/ford-10k-2022.pdf\",\n",
    "    \"files/gm-10k-2022.pdf\",\n",
    "    \"files/tesla-10k-2022.pdf\",\n",
    "]\n",
    "\n",
    "open(documents[0], \"r\").read()"
   ]
  },
  {
   "cell_type": "markdown",
   "id": "a86ca0a0-0634-4735-87e3-765ecc4f424f",
   "metadata": {
    "editable": true,
    "slideshow": {
     "slide_type": "slide"
    },
    "tags": []
   },
   "source": [
    "### 2. Preliminary setup and configuration"
   ]
  },
  {
   "cell_type": "markdown",
   "id": "f7b9849b-bc6b-4899-a81c-16e131bea02b",
   "metadata": {
    "editable": true,
    "slideshow": {
     "slide_type": ""
    },
    "tags": []
   },
   "source": [
    "```bash\n",
    "export OPENAI_KEY=XXX # Export relevant API keys\n",
    "\n",
    "ragna init # Create ragna.toml config-file using CLI wizard\n",
    "``` "
   ]
  },
  {
   "cell_type": "markdown",
   "id": "edae7dd0-bd7e-466d-bd47-7aa2a355e1a6",
   "metadata": {
    "editable": true,
    "slideshow": {
     "slide_type": ""
    },
    "tags": []
   },
   "source": [
    "Using the configuration file, you can set the assistants, source storages, API endpoints, etc."
   ]
  },
  {
   "cell_type": "markdown",
   "id": "ee91ee32-56b7-45fb-8e69-7220c4003611",
   "metadata": {
    "editable": true,
    "slideshow": {
     "slide_type": "slide"
    },
    "tags": []
   },
   "source": [
    "Create configuration using the file:"
   ]
  },
  {
   "cell_type": "code",
   "execution_count": null,
   "id": "d05214fe-084a-4b30-8d77-9fbf46332deb",
   "metadata": {
    "editable": true,
    "slideshow": {
     "slide_type": ""
    },
    "tags": []
   },
   "outputs": [],
   "source": [
    "from ragna import Config\n",
    "\n",
    "config = Config.from_file('ragna.toml')\n",
    "config"
   ]
  },
  {
   "cell_type": "markdown",
   "id": "654ee651-44ad-459d-a7c9-1a3d8e724287",
   "metadata": {
    "editable": true,
    "slideshow": {
     "slide_type": "slide"
    },
    "tags": []
   },
   "source": [
    "### 3. Select assistants & source storage:"
   ]
  },
  {
   "cell_type": "code",
   "execution_count": null,
   "id": "cc4d44b6-8d52-4e5e-a5e1-da566cea4407",
   "metadata": {
    "editable": true,
    "slideshow": {
     "slide_type": ""
    },
    "tags": []
   },
   "outputs": [],
   "source": [
    "from ragna.assistants import Gpt4, Gpt35Turbo16k \n",
    "from ragna.source_storages import Chroma, LanceDB\n",
    "\n",
    "from ragna.core import Rag"
   ]
  },
  {
   "cell_type": "code",
   "execution_count": null,
   "id": "44b6c433-bf8e-4f45-aa9e-3313ca5d1f76",
   "metadata": {
    "editable": true,
    "slideshow": {
     "slide_type": ""
    },
    "tags": []
   },
   "outputs": [],
   "source": [
    "rag = Rag(config)"
   ]
  },
  {
   "cell_type": "markdown",
   "id": "d8a3a6f1-67db-40bd-8851-5db35282c347",
   "metadata": {
    "editable": true,
    "slideshow": {
     "slide_type": "slide"
    },
    "tags": []
   },
   "source": [
    "### 4. Start a chat"
   ]
  },
  {
   "cell_type": "code",
   "execution_count": null,
   "id": "6eb51db8-c455-416e-acd5-0d6888fde5ad",
   "metadata": {
    "editable": true,
    "slideshow": {
     "slide_type": ""
    },
    "tags": []
   },
   "outputs": [],
   "source": [
    "# Note: Embedding documents takes a few minutes\n",
    "\n",
    "chat = rag.chat(documents=documents, \n",
    "                source_storage=Chroma,\n",
    "                assistant=Gpt35Turbo16k,\n",
    "               )\n",
    "\n",
    "await chat.prepare() # Ragna is async by design"
   ]
  },
  {
   "cell_type": "markdown",
   "id": "3e5f8e3b-6eb7-4c84-91b0-24f9dcc848c4",
   "metadata": {
    "editable": true,
    "slideshow": {
     "slide_type": "slide"
    },
    "tags": []
   },
   "source": [
    "### 5. Ask your questions!"
   ]
  },
  {
   "cell_type": "code",
   "execution_count": null,
   "id": "465bd78f-b700-43ec-923c-13329e725f05",
   "metadata": {
    "editable": true,
    "slideshow": {
     "slide_type": ""
    },
    "tags": []
   },
   "outputs": [],
   "source": [
    "answer = await chat.answer(\"What is Ragna?\")\n",
    "print(answer.content)"
   ]
  },
  {
   "cell_type": "markdown",
   "id": "1c1f4dab-4a4c-49af-92af-ab3fbd675169",
   "metadata": {
    "editable": true,
    "slideshow": {
     "slide_type": "slide"
    },
    "tags": []
   },
   "source": [
    "And, view sources:"
   ]
  },
  {
   "cell_type": "code",
   "execution_count": null,
   "id": "e68c8887-b10d-4b21-bea1-fa950534387d",
   "metadata": {
    "editable": true,
    "slideshow": {
     "slide_type": ""
    },
    "tags": []
   },
   "outputs": [],
   "source": [
    "answer.sources[0].content"
   ]
  },
  {
   "cell_type": "code",
   "execution_count": null,
   "id": "8c120ca1-88f2-4d02-b982-35bf396757d2",
   "metadata": {
    "editable": true,
    "slideshow": {
     "slide_type": ""
    },
    "tags": []
   },
   "outputs": [],
   "source": [
    "print(answer)"
   ]
  },
  {
   "cell_type": "markdown",
   "id": "aa09791e-0503-4b27-9206-a583c5aec69e",
   "metadata": {
    "editable": true,
    "raw_mimetype": "",
    "slideshow": {
     "slide_type": "slide"
    },
    "tags": []
   },
   "source": [
    "Some more prompts :)"
   ]
  },
  {
   "cell_type": "code",
   "execution_count": null,
   "id": "65a4e12d-bed3-4257-af9b-8b25887229ad",
   "metadata": {
    "editable": true,
    "slideshow": {
     "slide_type": ""
    },
    "tags": []
   },
   "outputs": [],
   "source": [
    "answer = await chat.answer(\"Did Ford earn more than GM?\")\n",
    "print(answer.content)"
   ]
  },
  {
   "cell_type": "code",
   "execution_count": null,
   "id": "5a8a30c2-357e-4776-a2d0-e1b7c9ea8c44",
   "metadata": {
    "editable": true,
    "slideshow": {
     "slide_type": ""
    },
    "tags": []
   },
   "outputs": [],
   "source": [
    "answer = await chat.answer(\"Did Tesla earn more than GM?\")\n",
    "print(answer.content)"
   ]
  },
  {
   "cell_type": "code",
   "execution_count": null,
   "id": "c73d72b6-e772-4b40-85c7-c8497709513f",
   "metadata": {
    "editable": true,
    "slideshow": {
     "slide_type": ""
    },
    "tags": []
   },
   "outputs": [],
   "source": [
    "answer = await chat.answer(\"How much did Tesla, GM, and Ford earn\")\n",
    "print(answer.content)"
   ]
  },
  {
   "cell_type": "markdown",
   "id": "2cade16a-6edb-4c17-a58b-ddedeb8fa999",
   "metadata": {
    "editable": true,
    "slideshow": {
     "slide_type": "slide"
    },
    "tags": []
   },
   "source": [
    "### Aside: We can quickly compare assistants & source storages"
   ]
  },
  {
   "cell_type": "code",
   "execution_count": null,
   "id": "82fb34bf-49fa-42ed-80fd-b2868490f099",
   "metadata": {
    "editable": true,
    "slideshow": {
     "slide_type": ""
    },
    "tags": []
   },
   "outputs": [],
   "source": [
    "import asyncio\n",
    "import itertools\n",
    "from pprint import pprint\n",
    "\n",
    "from ragna.assistants import Gpt4, Gpt35Turbo16k\n",
    "from ragna.source_storages import Chroma, LanceDB\n",
    "\n",
    "source_storages = [Chroma, LanceDB]\n",
    "assistants = [Gpt35Turbo16k, Gpt4]\n",
    "\n",
    "prompt = \"How much did Tesla, GM, and Ford earn\"\n",
    "\n",
    "async def answer_prompt(source_storage, assistant):\n",
    "    async with rag.chat(\n",
    "        documents=sec_10k_documents,\n",
    "        source_storage=source_storage,\n",
    "        assistant=assistant,\n",
    "    ) as chat:\n",
    "        message = await chat.answer(prompt)\n",
    "        return message.content\n",
    "\n",
    "experiments = {\n",
    "    (source_storage.display_name(), assistant.display_name()): answer_prompt(\n",
    "        source_storage, assistant\n",
    "    )\n",
    "    for source_storage, assistant in itertools.product(source_storages, assistants)\n",
    "}\n",
    "\n",
    "pprint(experiments)"
   ]
  },
  {
   "cell_type": "code",
   "execution_count": null,
   "id": "aa3cacba-7c6e-4d88-9f2b-41e7213c0879",
   "metadata": {
    "editable": true,
    "slideshow": {
     "slide_type": ""
    },
    "tags": []
   },
   "outputs": [],
   "source": [
    "results = dict(zip(experiments.keys(), await asyncio.gather(*experiments.values())))\n",
    "pprint(results)"
   ]
  },
  {
   "cell_type": "markdown",
   "id": "13d4ce61-fc66-49e0-9499-4cd7bb73793a",
   "metadata": {
    "editable": true,
    "slideshow": {
     "slide_type": "slide"
    },
    "tags": []
   },
   "source": [
    "### 6. Create a Panel ChatFeed\n",
    "\n",
    "TODO"
   ]
  },
  {
   "cell_type": "code",
   "execution_count": null,
   "id": "a91428eb-28cd-4e5f-be37-78d19700593c",
   "metadata": {
    "editable": true,
    "slideshow": {
     "slide_type": ""
    },
    "tags": []
   },
   "outputs": [],
   "source": [
    "import panel as pn\n",
    "\n",
    "pn.extension()"
   ]
  },
  {
   "cell_type": "code",
   "execution_count": null,
   "id": "9e4589f8-ffe2-45ed-af8c-08724cd71df8",
   "metadata": {
    "editable": true,
    "slideshow": {
     "slide_type": ""
    },
    "tags": []
   },
   "outputs": [],
   "source": []
  },
  {
   "cell_type": "markdown",
   "id": "8b91f8d8-35e2-44d4-8c0d-2243957cffe8",
   "metadata": {
    "editable": true,
    "slideshow": {
     "slide_type": "slide"
    },
    "tags": []
   },
   "source": [
    "### 7. Connect it to Ragna\n",
    "\n",
    "TODO"
   ]
  },
  {
   "cell_type": "code",
   "execution_count": null,
   "id": "8c342834-7a17-4e16-9c77-cf31640ab4d9",
   "metadata": {
    "editable": true,
    "slideshow": {
     "slide_type": ""
    },
    "tags": []
   },
   "outputs": [],
   "source": []
  },
  {
   "cell_type": "markdown",
   "id": "987c21b3-d7b6-4861-b52d-9744aebf02f1",
   "metadata": {
    "editable": true,
    "jp-MarkdownHeadingCollapsed": true,
    "slideshow": {
     "slide_type": "slide"
    },
    "tags": []
   },
   "source": [
    "### 8/9/10. TBD / add steps as needed"
   ]
  },
  {
   "cell_type": "markdown",
   "id": "0dfdabe3-6ebd-4250-915a-96ea7c5dbf5f",
   "metadata": {
    "editable": true,
    "slideshow": {
     "slide_type": "slide"
    },
    "tags": []
   },
   "source": [
    "## Ragna ships with a fully-featured UI built with Panel\n",
    "\n",
    "This uses **Ragna's REST API**, which is more convenient to build production applications."
   ]
  },
  {
   "cell_type": "markdown",
   "id": "0c9c7a5a-79d2-4ad3-8175-1bacae2e0900",
   "metadata": {
    "editable": true,
    "slideshow": {
     "slide_type": ""
    },
    "tags": []
   },
   "source": [
    "<img src=\"images/ragna-web-ui.gif\" />"
   ]
  },
  {
   "cell_type": "markdown",
   "id": "c8fdda46-bd63-40e0-8562-913c743335c5",
   "metadata": {
    "editable": true,
    "slideshow": {
     "slide_type": "slide"
    },
    "tags": []
   },
   "source": [
    "## Thank you! Question?\n",
    "\n",
    "Learn more: [**ragna.chat**](https://ragna.chat/)\n",
    "\n",
    "Please share your thoughts and feedback!"
   ]
  }
 ],
 "metadata": {
  "kernelspec": {
   "display_name": "Python 3 (ipykernel)",
   "language": "python",
   "name": "python3"
  },
  "language_info": {
   "codemirror_mode": {
    "name": "ipython",
    "version": 3
   },
   "file_extension": ".py",
   "mimetype": "text/x-python",
   "name": "python",
   "nbconvert_exporter": "python",
   "pygments_lexer": "ipython3",
   "version": "3.11.6"
  }
 },
 "nbformat": 4,
 "nbformat_minor": 5
}
