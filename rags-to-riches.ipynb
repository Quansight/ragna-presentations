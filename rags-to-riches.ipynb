{
 "cells": [
  {
   "cell_type": "markdown",
   "id": "f227552a-ddac-43f6-9dd1-adf6a1478a2d",
   "metadata": {
    "editable": true,
    "slideshow": {
     "slide_type": "slide"
    },
    "tags": []
   },
   "source": [
    "# From RAGs to riches: Build an AI document interrogation app in 30 mins\n",
    "\n",
    "Dharhas Pothina | PyData NYC 2023\n",
    "\n",
    "---"
   ]
  },
  {
   "cell_type": "markdown",
   "id": "126dee28-e630-4e57-825b-36c8ac39cbfa",
   "metadata": {
    "editable": true,
    "slideshow": {
     "slide_type": "slide"
    },
    "tags": []
   },
   "source": [
    "## Hi! I'm Dharhas from Quansight👋"
   ]
  },
  {
   "cell_type": "markdown",
   "id": "f59f4e23-6682-40ee-9575-10649a08d5e7",
   "metadata": {
    "editable": true,
    "slideshow": {
     "slide_type": ""
    },
    "tags": []
   },
   "source": [
    "<!-- ![caption](images/viking_boat_desk.jpg) -->\n",
    "\n",
    "\n",
    "<img src=\"images/quansight.png\"/>"
   ]
  },
  {
   "cell_type": "markdown",
   "id": "4c088c40-3570-43db-8f1a-f823818e2c8f",
   "metadata": {
    "editable": true,
    "jp-MarkdownHeadingCollapsed": true,
    "slideshow": {
     "slide_type": "slide"
    },
    "tags": []
   },
   "source": [
    "## Today's goal: Build a Retrieval Augmented Generation (RAG) based Document Query AI Assistant\n",
    "\n",
    "<img src=\"images/ragna-web-ui.gif\"/>\n",
    "\n",
    "## We are not building ☝️ but you can try it out.\n",
    "\n",
    "## visit: https://ragna.quansight.dev\n",
    "\n",
    "## username: `enter a name or email`\n",
    "\n",
    "## password: `tryragna`\n",
    "\n",
    "## This is a fully-featured UI built with Panel and Ragna\n",
    "\n",
    "This uses **Ragna's REST API**, which is more convenient to build production applications and **Panels ChatInterface** widget\n",
    "\n",
    "**Note: This is demo website that will be taken down after this talk**"
   ]
  },
  {
   "cell_type": "markdown",
   "id": "d76917f0-d203-4a9d-8e74-2b443a91545a",
   "metadata": {
    "editable": true,
    "slideshow": {
     "slide_type": "slide"
    },
    "tags": []
   },
   "source": [
    "## Retrieval-Augmented Generation (RAG): Make LLMs more useful"
   ]
  },
  {
   "cell_type": "markdown",
   "id": "a8e6f90d-650b-45f1-a171-cc648defcb38",
   "metadata": {
    "editable": true,
    "slideshow": {
     "slide_type": "slide"
    },
    "tags": []
   },
   "source": [
    "### LLMs are trained on vast but static datasets.\n",
    "\n",
    "<img src=\"images/chatgpt-what-is-ragna-framework.png\"/>\n",
    "\n",
    "### Google indexes the web and caught up pretty quickly.\n",
    "\n",
    "<img src=\"images/google-what-is-ragna-framework.png\"/>"
   ]
  },
  {
   "cell_type": "markdown",
   "id": "77434385-6bfe-43b2-9c4d-ebfd726e41f2",
   "metadata": {
    "editable": true,
    "slideshow": {
     "slide_type": "slide"
    },
    "tags": []
   },
   "source": [
    "### RAG is a method to augment foundational LLMs with fresh data and to reduce hallucinations and get around the limited space available in an LLM prompt (around 3,000 works for ChatGPT 3.5) \n",
    "\n",
    "<img src=\"images/RAG.png\"/>"
   ]
  },
  {
   "cell_type": "markdown",
   "id": "18e1bb6a-72ec-44dd-882c-cfd3cf459c84",
   "metadata": {
    "editable": true,
    "slideshow": {
     "slide_type": "slide"
    },
    "tags": []
   },
   "source": [
    "## Let's get started!"
   ]
  },
  {
   "cell_type": "markdown",
   "id": "1fd78561-d581-415a-909f-c16fe20a9f0d",
   "metadata": {
    "editable": true,
    "slideshow": {
     "slide_type": "slide"
    },
    "tags": []
   },
   "source": [
    "### We'll be using:"
   ]
  },
  {
   "cell_type": "markdown",
   "id": "81ad0ef0-6521-4001-bdee-fb544f42cfac",
   "metadata": {
    "editable": true,
    "slideshow": {
     "slide_type": ""
    },
    "tags": []
   },
   "source": [
    "<img src=\"images/ragna-logo.png\" width=55%/>\n",
    "\n",
    "RAG orchestration framework designed to scale from research to production.\n",
    "\n",
    "<br>\n",
    "\n",
    "<img src=\"images/panel-logo.png\" width=50%/>\n",
    "\n",
    "Powerful interactive dashboard and application development framework."
   ]
  },
  {
   "cell_type": "markdown",
   "id": "5e1d5685-e3cb-4dff-9f52-69027e32bfde",
   "metadata": {
    "editable": true,
    "slideshow": {
     "slide_type": "slide"
    },
    "tags": []
   },
   "source": [
    "### 1. Provide relevant data"
   ]
  },
  {
   "cell_type": "markdown",
   "id": "14b187fe-31f6-449a-bfec-bc3398dd43af",
   "metadata": {
    "editable": true,
    "slideshow": {
     "slide_type": ""
    },
    "tags": []
   },
   "source": [
    "10-K reports from Ford, GM, and Tesla, as well as a file describing Ragna:"
   ]
  },
  {
   "cell_type": "code",
   "execution_count": null,
   "id": "b9865ffb-8436-4856-a46a-6f4448ed7d37",
   "metadata": {
    "editable": true,
    "slideshow": {
     "slide_type": ""
    },
    "tags": []
   },
   "outputs": [],
   "source": [
    "documents = [\n",
    "\n",
    "    \"files/what-is-ragna.txt\",\n",
    "    \"files/ford-10k-2022.pdf\",\n",
    "    \"files/gm-10k-2022.pdf\",\n",
    "    \n",
    "]\n",
    "\n",
    "print(open(documents[0], \"r\").read())"
   ]
  },
  {
   "cell_type": "markdown",
   "id": "a86ca0a0-0634-4735-87e3-765ecc4f424f",
   "metadata": {
    "editable": true,
    "slideshow": {
     "slide_type": "slide"
    },
    "tags": []
   },
   "source": [
    "### 2. Preliminary setup and configuration"
   ]
  },
  {
   "cell_type": "markdown",
   "id": "f7b9849b-bc6b-4899-a81c-16e131bea02b",
   "metadata": {
    "editable": true,
    "slideshow": {
     "slide_type": ""
    },
    "tags": []
   },
   "source": [
    "```bash\n",
    "export OPENAI_API_KEY=XXX # Export relevant API keys\n",
    "\n",
    "ragna init # Create ragna.toml config-file using CLI wizard\n",
    "``` "
   ]
  },
  {
   "cell_type": "markdown",
   "id": "edae7dd0-bd7e-466d-bd47-7aa2a355e1a6",
   "metadata": {
    "editable": true,
    "tags": []
   },
   "source": [
    "Using the configuration file, you can set the assistants, source storages, API endpoints, etc."
   ]
  },
  {
   "cell_type": "markdown",
   "id": "ee91ee32-56b7-45fb-8e69-7220c4003611",
   "metadata": {
    "editable": true,
    "slideshow": {
     "slide_type": "slide"
    },
    "tags": []
   },
   "source": [
    "Create configuration using the file:"
   ]
  },
  {
   "cell_type": "code",
   "execution_count": null,
   "id": "d05214fe-084a-4b30-8d77-9fbf46332deb",
   "metadata": {
    "editable": true,
    "slideshow": {
     "slide_type": ""
    },
    "tags": []
   },
   "outputs": [],
   "source": [
    "from dotenv import load_dotenv\n",
    "from ragna import Config\n",
    "import warnings\n",
    "\n",
    "warnings.filterwarnings('ignore')\n",
    "load_dotenv()\n",
    "config = Config.from_file('ragna.toml')\n",
    "config"
   ]
  },
  {
   "cell_type": "markdown",
   "id": "654ee651-44ad-459d-a7c9-1a3d8e724287",
   "metadata": {
    "editable": true,
    "slideshow": {
     "slide_type": "slide"
    },
    "tags": []
   },
   "source": [
    "### 3. Select assistants & source storage:\n",
    "\n",
    "- LLMs\n",
    "    - OpenAI GPT 3.5 Turbo 16k (API)\n",
    "    - OpenAI GPT 4 (API)\n",
    "    - Airoboros L2 7B 2.2 GPTQ (Local LLM)\n",
    "- Vector Databases\n",
    "    - Chroma\n",
    "    - LanceDB"
   ]
  },
  {
   "cell_type": "code",
   "execution_count": null,
   "id": "cc4d44b6-8d52-4e5e-a5e1-da566cea4407",
   "metadata": {
    "editable": true,
    "slideshow": {
     "slide_type": ""
    },
    "tags": []
   },
   "outputs": [],
   "source": [
    "from ragna.assistants import Gpt4, Gpt35Turbo16k \n",
    "from local_llm import Airoboros\n",
    "from ragna.source_storages import Chroma, LanceDB\n",
    "\n",
    "from ragna.core import Rag\n",
    "\n",
    "# also import our chat interface builder tools for later\n",
    "import panel as pn\n",
    "pn.extension()"
   ]
  },
  {
   "cell_type": "code",
   "execution_count": null,
   "id": "44b6c433-bf8e-4f45-aa9e-3313ca5d1f76",
   "metadata": {
    "editable": true,
    "slideshow": {
     "slide_type": ""
    },
    "tags": []
   },
   "outputs": [],
   "source": [
    "rag = Rag(config)"
   ]
  },
  {
   "cell_type": "markdown",
   "id": "d8a3a6f1-67db-40bd-8851-5db35282c347",
   "metadata": {
    "editable": true,
    "slideshow": {
     "slide_type": "slide"
    },
    "tags": []
   },
   "source": [
    "### 4. Start a chat"
   ]
  },
  {
   "cell_type": "code",
   "execution_count": null,
   "id": "6eb51db8-c455-416e-acd5-0d6888fde5ad",
   "metadata": {
    "editable": true,
    "slideshow": {
     "slide_type": ""
    },
    "tags": []
   },
   "outputs": [],
   "source": [
    "# Note: Embedding documents takes a few minutes\n",
    "\n",
    "chat_gpt = rag.chat(documents=documents[:1], \n",
    "                source_storage=Chroma,\n",
    "                assistant=Gpt35Turbo16k,\n",
    "               )\n",
    "\n",
    "chat_local = rag.chat(documents=documents[:1], \n",
    "                source_storage=LanceDB,\n",
    "                assistant=Airoboros,\n",
    "               )\n",
    "\n",
    "await chat_gpt.prepare() # Ragna is async by design\n",
    "await chat_local.prepare()"
   ]
  },
  {
   "cell_type": "markdown",
   "id": "3e5f8e3b-6eb7-4c84-91b0-24f9dcc848c4",
   "metadata": {
    "editable": true,
    "slideshow": {
     "slide_type": "slide"
    },
    "tags": []
   },
   "source": [
    "### 5. Ask your questions!"
   ]
  },
  {
   "cell_type": "code",
   "execution_count": null,
   "id": "465bd78f-b700-43ec-923c-13329e725f05",
   "metadata": {
    "editable": true,
    "slideshow": {
     "slide_type": ""
    },
    "tags": []
   },
   "outputs": [],
   "source": [
    "answer = await chat_gpt.answer(\"What is Ragna?\")\n",
    "print(f\"\\nRagna GPT 3.5 Response: \\n\\n{answer.content}\")"
   ]
  },
  {
   "cell_type": "code",
   "execution_count": null,
   "id": "0f87ff7f-da40-40e7-99b2-44e7655426b3",
   "metadata": {
    "tags": []
   },
   "outputs": [],
   "source": [
    "answer = await chat_local.answer(\"What is Ragna?\")\n",
    "print(f\"\\nRagna Airoboros Response: \\n\\n{answer.content}\")"
   ]
  },
  {
   "cell_type": "markdown",
   "id": "1c1f4dab-4a4c-49af-92af-ab3fbd675169",
   "metadata": {
    "editable": true,
    "slideshow": {
     "slide_type": "slide"
    },
    "tags": []
   },
   "source": [
    "## Lets look at the sources used:"
   ]
  },
  {
   "cell_type": "code",
   "execution_count": null,
   "id": "e68c8887-b10d-4b21-bea1-fa950534387d",
   "metadata": {
    "editable": true,
    "slideshow": {
     "slide_type": ""
    },
    "tags": []
   },
   "outputs": [],
   "source": [
    "print(answer.sources[0])"
   ]
  },
  {
   "cell_type": "markdown",
   "id": "2051b06d-e2cf-4b58-9b97-cb9047010771",
   "metadata": {
    "editable": true,
    "slideshow": {
     "slide_type": ""
    },
    "tags": []
   },
   "source": [
    "## Lets make this into an actual chat experience with Panel\n",
    "\n",
    "We will use Panel's ChatInterface widget\n",
    "\n",
    "https://panel.holoviz.org/reference/chat/ChatInterface.html"
   ]
  },
  {
   "cell_type": "markdown",
   "id": "f8001ce7-de8e-41ae-8a65-5a386e971a69",
   "metadata": {},
   "source": [
    "### We need to define a callback function to receive a query and return a response"
   ]
  },
  {
   "cell_type": "code",
   "execution_count": null,
   "id": "04633128-72d6-4db2-809e-91729ec24223",
   "metadata": {
    "tags": []
   },
   "outputs": [],
   "source": [
    "async def callback(contents: str, user: str, instance: pn.chat.ChatInterface):\n",
    "    answer_gpt = await chat_gpt.answer(contents)\n",
    "    answer_local = await chat_local.answer(contents)\n",
    "    if user == 'dharhas': \n",
    "        instance.send({'user': 'openai gpt 3.5', 'object': answer_gpt.content})\n",
    "        instance.send({'user': 'airoboros L2 7B', 'object': answer_local.content})"
   ]
  },
  {
   "cell_type": "markdown",
   "id": "3dbf003f-b0b6-499a-9963-60f4fefa400f",
   "metadata": {
    "execution": {
     "iopub.execute_input": "2023-11-03T11:34:18.564437Z",
     "iopub.status.busy": "2023-11-03T11:34:18.563723Z",
     "iopub.status.idle": "2023-11-03T11:34:18.569126Z",
     "shell.execute_reply": "2023-11-03T11:34:18.568503Z",
     "shell.execute_reply.started": "2023-11-03T11:34:18.564410Z"
    },
    "tags": []
   },
   "source": [
    "### Lets setup the chat widget"
   ]
  },
  {
   "cell_type": "code",
   "execution_count": null,
   "id": "c9373d7b-905c-4432-abb0-dafd5769c1df",
   "metadata": {
    "tags": []
   },
   "outputs": [],
   "source": [
    "chat_interface = pn.chat.ChatInterface(\n",
    "    callback = callback, \n",
    "    callback_user = \"Ragna\",\n",
    "    user = \"dharhas\",\n",
    "    avatar = \"images/dharhas_avatar.png\",\n",
    "    show_clear = False,\n",
    "    show_undo = False,\n",
    ")"
   ]
  },
  {
   "cell_type": "markdown",
   "id": "f29ee4d7-8bab-4648-badc-548c236574dd",
   "metadata": {},
   "source": [
    "### Start up the chat widget"
   ]
  },
  {
   "cell_type": "code",
   "execution_count": null,
   "id": "922232c1-00d7-4adb-a45f-d9e9749026a5",
   "metadata": {
    "tags": []
   },
   "outputs": [],
   "source": [
    "chat_interface.send(\n",
    "    \"Send a message to get a reply from Ragna!\", \n",
    "    user=\"Ragna\", \n",
    "    avatar = \"images/ragna-avatar.png\", \n",
    "    respond=False\n",
    ")\n",
    "\n",
    "chat_interface.servable()"
   ]
  },
  {
   "cell_type": "markdown",
   "id": "aa09791e-0503-4b27-9206-a583c5aec69e",
   "metadata": {
    "editable": true,
    "raw_mimetype": "",
    "slideshow": {
     "slide_type": "slide"
    },
    "tags": []
   },
   "source": [
    "Some more prompts :)"
   ]
  },
  {
   "cell_type": "markdown",
   "id": "2cade16a-6edb-4c17-a58b-ddedeb8fa999",
   "metadata": {
    "editable": true,
    "slideshow": {
     "slide_type": "slide"
    },
    "tags": []
   },
   "source": [
    "### Aside: We can quickly compare assistants & source storages"
   ]
  },
  {
   "cell_type": "code",
   "execution_count": null,
   "id": "82fb34bf-49fa-42ed-80fd-b2868490f099",
   "metadata": {
    "editable": true,
    "slideshow": {
     "slide_type": ""
    },
    "tags": []
   },
   "outputs": [],
   "source": [
    "import asyncio\n",
    "import itertools\n",
    "from pprint import pprint\n",
    "\n",
    "from ragna.assistants import Gpt4, Gpt35Turbo16k\n",
    "from local_llm import Airoboros\n",
    "from ragna.source_storages import Chroma, LanceDB\n",
    "\n",
    "source_storages = [Chroma, LanceDB]\n",
    "assistants = [Airoboros, Gpt35Turbo16k, Airoboros, Gpt4]\n",
    "\n",
    "prompt = \"How much did GM and Ford earn\"\n",
    "\n",
    "async def answer_prompt(source_storage, assistant):\n",
    "    async with rag.chat(\n",
    "        documents=documents,\n",
    "        source_storage=source_storage,\n",
    "        assistant=assistant,\n",
    "    ) as chat:\n",
    "        message = await chat.answer(prompt)\n",
    "        return message.content\n",
    "\n",
    "experiments = {\n",
    "    (source_storage.display_name(), assistant.display_name()): answer_prompt(\n",
    "        source_storage, assistant\n",
    "    )\n",
    "    for source_storage, assistant in itertools.product(source_storages, assistants)\n",
    "}\n",
    "\n",
    "pprint(experiments)"
   ]
  },
  {
   "cell_type": "code",
   "execution_count": null,
   "id": "aa3cacba-7c6e-4d88-9f2b-41e7213c0879",
   "metadata": {
    "editable": true,
    "slideshow": {
     "slide_type": ""
    },
    "tags": []
   },
   "outputs": [],
   "source": [
    "results = dict(zip(experiments.keys(), await asyncio.gather(*experiments.values())))\n",
    "pprint(results)"
   ]
  },
  {
   "cell_type": "markdown",
   "id": "c8fdda46-bd63-40e0-8562-913c743335c5",
   "metadata": {
    "editable": true,
    "slideshow": {
     "slide_type": "slide"
    },
    "tags": []
   },
   "source": [
    "## Thank you! Questions?\n",
    "\n",
    "### Learn more: [**ragna.chat**](https://ragna.chat/)\n",
    "\n",
    "Please share your thoughts and feedback!\n",
    "\n",
    "contact me: dharhas@quansight.com\n",
    "\n",
    "<img src=\"images/viking_boat_desk.jpg\"/>"
   ]
  },
  {
   "cell_type": "code",
   "execution_count": null,
   "id": "be184961-fc10-4273-b2fd-3bb2b4d2b32f",
   "metadata": {},
   "outputs": [],
   "source": []
  }
 ],
 "metadata": {
  "kernelspec": {
   "display_name": "quansight-quansight-ragna-pydata-nyc-2023",
   "language": "python",
   "name": "conda-env-quansight-quansight-ragna-pydata-nyc-2023-py"
  },
  "language_info": {
   "codemirror_mode": {
    "name": "ipython",
    "version": 3
   },
   "file_extension": ".py",
   "mimetype": "text/x-python",
   "name": "python",
   "nbconvert_exporter": "python",
   "pygments_lexer": "ipython3",
   "version": "3.11.5"
  }
 },
 "nbformat": 4,
 "nbformat_minor": 5
}
