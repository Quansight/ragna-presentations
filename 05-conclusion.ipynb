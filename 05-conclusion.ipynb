{
 "cells": [
  {
   "cell_type": "markdown",
   "id": "5b4cfb86-70f1-4138-a793-0db13071cc3c",
   "metadata": {},
   "source": [
    "<img src=\"images/ragna-logo.png\" width=20% align=\"right\"/>\n",
    "\n",
    "# Conclusion\n",
    "\n",
    "<hr>"
   ]
  },
  {
   "cell_type": "markdown",
   "id": "4c90cbf4-b42b-4763-8dcd-5d3299f4b70a",
   "metadata": {},
   "source": [
    "## A note about REST API"
   ]
  },
  {
   "cell_type": "markdown",
   "id": "668f4f39-a56a-4520-8f96-c9b02b38b606",
   "metadata": {},
   "source": [
    "## Resources to learn more"
   ]
  },
  {
   "cell_type": "markdown",
   "id": "949f0c75-bed5-420d-8102-992b13175c6c",
   "metadata": {},
   "source": [
    "## Feedback"
   ]
  },
  {
   "cell_type": "markdown",
   "id": "9e7986cd-7089-42d5-8bde-e0ea612db928",
   "metadata": {},
   "source": [
    "## Contact us"
   ]
  },
  {
   "cell_type": "markdown",
   "id": "4bd10daa-bfc6-48c3-976f-6fd818d45db4",
   "metadata": {},
   "source": [
    "## Acknowledgements"
   ]
  },
  {
   "cell_type": "code",
   "execution_count": null,
   "id": "00548cd3-e963-41dc-bd61-b2d382b26bd8",
   "metadata": {},
   "outputs": [],
   "source": []
  }
 ],
 "metadata": {
  "kernelspec": {
   "display_name": "Python 3 (ipykernel)",
   "language": "python",
   "name": "python3"
  },
  "language_info": {
   "codemirror_mode": {
    "name": "ipython",
    "version": 3
   },
   "file_extension": ".py",
   "mimetype": "text/x-python",
   "name": "python",
   "nbconvert_exporter": "python",
   "pygments_lexer": "ipython3",
   "version": "3.11.8"
  }
 },
 "nbformat": 4,
 "nbformat_minor": 5
}
