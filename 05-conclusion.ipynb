{
 "cells": [
  {
   "cell_type": "markdown",
   "id": "7e5bacb6-67ae-472c-8ffd-a5a2964186ee",
   "metadata": {},
   "source": [
    "<img src=\"images/ragna-logo.png\" width=\"200px\" align=\"right\"/>\n",
    "\n",
    "# Thank you for participating!\n",
    "\n",
    "<hr>"
   ]
  },
  {
   "cell_type": "markdown",
   "id": "a1b019b1-a46d-4aa9-9141-effc9b06a13c",
   "metadata": {},
   "source": [
    "## Key takeaways ✨\n",
    "\n",
    "* Offline LLMs are powerful, and quantized versions can be quickly run on your local computers\n",
    "* Retrieval-augmented generation (RAG) helps improve the effectiveness of LLMs\n",
    "* You can create document inquiry chat experiments and applications with orchestration tools like Ragna"
   ]
  },
  {
   "cell_type": "markdown",
   "id": "b8f42957-b984-4e29-9aa5-1714667df1e2",
   "metadata": {},
   "source": [
    "## Resources 📚\n",
    "\n",
    "🐙 Review the tutorial material on GitHub: [Quansight/ragna-presentations](https://github.com/Quansight/ragna-presentations)\n",
    "\n",
    "🤗 Keep up with trending open LLMs on the [Hugging Face Leaderboard](https://huggingface.co/spaces/HuggingFaceH4/open_llm_leaderboard)\n",
    "\n",
    "⛵️ Learn [more about Ragna](https://ragna.chat/en/stable/) and [how it compares to other libraries like LangChain](https://ragna.chat/en/stable/references/faq/#why-should-i-use-ragna-and-not-x)\n",
    "\n",
    "🗂️ Check out alternative quantization and inference libraries like [llama.cpp](https://github.com/ggerganov/llama.cpp) and [ollama](https://github.com/ollama/ollama)\n"
   ]
  },
  {
   "cell_type": "markdown",
   "id": "cf453532-5fa3-47be-8718-6ee66760f7cf",
   "metadata": {},
   "source": [
    "## Note ☝🏼\n",
    "\n",
    "The Nebari instance and OpenAI key will not be available after the tutorial.\n",
    "\n",
    "You can contact the speakers if you'd like to continue exploring."
   ]
  },
  {
   "cell_type": "markdown",
   "id": "c951fab5-40e2-45a5-9d76-9f7dc96a9ad2",
   "metadata": {},
   "source": [
    "<hr>"
   ]
  }
 ],
 "metadata": {
  "kernelspec": {
   "display_name": "global-global-pycon-de",
   "language": "python",
   "name": "conda-env-global-global-pycon-de-py"
  },
  "language_info": {
   "codemirror_mode": {
    "name": "ipython",
    "version": 3
   },
   "file_extension": ".py",
   "mimetype": "text/x-python",
   "name": "python",
   "nbconvert_exporter": "python",
   "pygments_lexer": "ipython3",
   "version": "3.11.8"
  }
 },
 "nbformat": 4,
 "nbformat_minor": 5
}
