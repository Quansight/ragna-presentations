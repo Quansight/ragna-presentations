{
 "cells": [
  {
   "cell_type": "markdown",
   "id": "7e5bacb6-67ae-472c-8ffd-a5a2964186ee",
   "metadata": {},
   "source": [
    "<img src=\"images/ragna-logo.png\" width=20% align=\"right\"/>\n",
    "\n",
    "# Conclusion\n",
    "\n",
    "<hr>"
   ]
  },
  {
   "cell_type": "markdown",
   "id": "0c95eb45-e6ea-4ebb-9df9-65b7cc51a0f9",
   "metadata": {},
   "source": [
    "Thank you for participating!"
   ]
  },
  {
   "cell_type": "markdown",
   "id": "417c2f77-4727-430e-8bf8-2b18153fbcaa",
   "metadata": {},
   "source": [
    "## Resources\n",
    "\n",
    "* [Ragna's documentation](https://ragna.chat)\n",
    "* [More quantized models from `turboderp` on Hugging Face](https://huggingface.co/turboderp)\n",
    "* TBD"
   ]
  },
  {
   "cell_type": "markdown",
   "id": "69efe951-9b15-4e88-9962-827c04ca544e",
   "metadata": {},
   "source": [
    "## Acknowledgements\n",
    "\n",
    "* TBD"
   ]
  },
  {
   "cell_type": "code",
   "execution_count": null,
   "id": "3452cef9-bf1e-4f37-a07a-05a9aabab8f9",
   "metadata": {},
   "outputs": [],
   "source": []
  }
 ],
 "metadata": {
  "kernelspec": {
   "display_name": "Python 3 (ipykernel)",
   "language": "python",
   "name": "python3"
  },
  "language_info": {
   "codemirror_mode": {
    "name": "ipython",
    "version": 3
   },
   "file_extension": ".py",
   "mimetype": "text/x-python",
   "name": "python",
   "nbconvert_exporter": "python",
   "pygments_lexer": "ipython3",
   "version": "3.11.8"
  }
 },
 "nbformat": 4,
 "nbformat_minor": 5
}
