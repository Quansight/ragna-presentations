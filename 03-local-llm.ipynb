{
 "cells": [
  {
   "cell_type": "markdown",
   "id": "4068322e-24d0-49db-a092-1ef9fadbf7df",
   "metadata": {},
   "source": [
    "<img src=\"images/ragna-logo.png\" width=25% align=\"right\"/>\n",
    "\n",
    "# Run and use a local LLM\n",
    "\n",
    "<hr>"
   ]
  },
  {
   "cell_type": "markdown",
   "id": "9023605d-8321-4854-8ce0-462847b479dc",
   "metadata": {},
   "source": [
    "Refer to `local_llm.py`"
   ]
  },
  {
   "cell_type": "markdown",
   "id": "4e11098d-1e7f-40e6-8fb1-07c6f35ca529",
   "metadata": {},
   "source": [
    "TODO\n",
    "\n",
    "<!-- TODO - Test on Nebari, Try Mistral's model? -->"
   ]
  },
  {
   "cell_type": "code",
   "execution_count": null,
   "id": "9c18188e-b597-469e-8f2c-433979f79f72",
   "metadata": {},
   "outputs": [],
   "source": [
    "from scripts.local_llm import Airoboros"
   ]
  },
  {
   "cell_type": "code",
   "execution_count": null,
   "id": "c70d354a-3fd1-4089-898b-5b3bdb0801a6",
   "metadata": {},
   "outputs": [],
   "source": [
    "chat_local = rag.chat(documents=documents[:1], \n",
    "                source_storage=LanceDB,\n",
    "                assistant=Airoboros,\n",
    "               )"
   ]
  },
  {
   "cell_type": "code",
   "execution_count": null,
   "id": "a2349e13-6e50-4610-bd10-be8860b25373",
   "metadata": {},
   "outputs": [],
   "source": [
    "await chat_local.prepare()"
   ]
  },
  {
   "cell_type": "code",
   "execution_count": null,
   "id": "4f6fc9db-af12-4dc9-95a1-b240e6ca58d7",
   "metadata": {},
   "outputs": [],
   "source": [
    "answer = await chat_local.answer(\"What is Ragna?\")\n",
    "print(f\"\\nRagna Airoboros Response: \\n\\n{answer.content}\")"
   ]
  },
  {
   "cell_type": "code",
   "execution_count": null,
   "id": "6e659560-9585-414e-b1f0-523fdd101ab8",
   "metadata": {},
   "outputs": [],
   "source": [
    "print(answer.sources[0])"
   ]
  }
 ],
 "metadata": {
  "kernelspec": {
   "display_name": "Python 3 (ipykernel)",
   "language": "python",
   "name": "python3"
  },
  "language_info": {
   "codemirror_mode": {
    "name": "ipython",
    "version": 3
   },
   "file_extension": ".py",
   "mimetype": "text/x-python",
   "name": "python",
   "nbconvert_exporter": "python",
   "pygments_lexer": "ipython3",
   "version": "3.11.8"
  }
 },
 "nbformat": 4,
 "nbformat_minor": 5
}
