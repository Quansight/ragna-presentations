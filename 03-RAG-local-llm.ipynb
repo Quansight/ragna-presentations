{
 "cells": [
  {
   "cell_type": "markdown",
   "id": "4c6d44f7-b10f-4d06-92e2-e889445eed75",
   "metadata": {
    "editable": true,
    "slideshow": {
     "slide_type": ""
    },
    "tags": []
   },
   "source": [
    "<img src=\"images/ragna-logo.png\" width=15% align=\"right\"/>\n",
    "\n",
    "# Use Local LLM with Ragna\n",
    "\n",
    "<hr>"
   ]
  },
  {
   "cell_type": "markdown",
   "id": "3e1610ef-6fa7-438e-a76c-c89cfb8b59ec",
   "metadata": {},
   "source": [
    "## Create a new Ragna assistant"
   ]
  },
  {
   "cell_type": "markdown",
   "id": "f6e2c8b6-ab62-472f-98ce-24bf63a7fc45",
   "metadata": {},
   "source": [
    "TODO - Add explanations for `make_prompt`, `answer` functions\n",
    "\n",
    "\n",
    "<details>\n",
    "<summary> <b>Expand to read <code>local_llm.py</code> → </b></summary>\n",
    "\n",
    "```python\n",
    "from pathlib import Path\n",
    "from typing import Iterator\n",
    "\n",
    "from ragna.core import Assistant, PackageRequirement, Source\n",
    "\n",
    "\n",
    "class Mistral7BInstruct(Assistant):\n",
    "    @classmethod\n",
    "    def display_name(cls):\n",
    "        return \"turboderp/Mistral-7B-v0.2-exl2\"\n",
    "\n",
    "    @classmethod\n",
    "    def requirements(cls):\n",
    "        return [\n",
    "            PackageRequirement(\"exllamav2\"),\n",
    "            PackageRequirement(\"torch\"),\n",
    "        ]\n",
    "\n",
    "    @classmethod\n",
    "    def is_available(cls):\n",
    "        requirements_available = super().is_available()\n",
    "        if not requirements_available:\n",
    "            return False\n",
    "\n",
    "        import torch\n",
    "\n",
    "        return torch.cuda.is_available()\n",
    "\n",
    "    def __init__(self):\n",
    "        super().__init__()\n",
    "        from exllamav2 import (\n",
    "            ExLlamaV2,\n",
    "            ExLlamaV2Cache,\n",
    "            ExLlamaV2Config,\n",
    "            ExLlamaV2Tokenizer,\n",
    "        )\n",
    "        from exllamav2.generator import ExLlamaV2Sampler, ExLlamaV2StreamingGenerator\n",
    "\n",
    "        config = ExLlamaV2Config()\n",
    "        config.model_dir = str(Path.home() / \"shared/analyst/models\" / self.display_name())\n",
    "        config.prepare()\n",
    "\n",
    "        self.tokenizer = ExLlamaV2Tokenizer(config)\n",
    "\n",
    "        model = ExLlamaV2(config)\n",
    "        cache = ExLlamaV2Cache(model, lazy=True)\n",
    "        model.load_autosplit(cache)\n",
    "        self.generator = ExLlamaV2StreamingGenerator(model, cache, self.tokenizer)\n",
    "        self.generator.set_stop_conditions({self.tokenizer.eos_token})\n",
    "\n",
    "        self.settings = ExLlamaV2Sampler.Settings()\n",
    "        self.settings.temperature = 0.0\n",
    "\n",
    "    def make_prompt(self, prompt: str, sources: list[Source]) -> str:\n",
    "        return \"\".join(\n",
    "            [\n",
    "                f\"<s>[INST] \",\n",
    "                f\"You are a helpful assistant that answers prompts by only using the documents listed below. \",\n",
    "                f\"Each individual document is started pattern <doc> and ended by </doc>. \",\n",
    "                f\"If you can't answer a question based on the sources you are given, just say so. Do not make up information.\",\n",
    "                *[f\"<doc> {source.content} </doc>\" for source in sources],\n",
    "                f\"Reply with OK if you have understood these instructions.\",\n",
    "                f\" [/INST]OK</s>[INST] {prompt} [/INST]\",\n",
    "            ]\n",
    "        )\n",
    "\n",
    "    def answer(\n",
    "        self, prompt: str, sources: list[Source], *, max_new_tokens: int = 256\n",
    "    ) -> Iterator[str]:\n",
    "        input_ids = self.tokenizer.encode(\n",
    "            self.make_prompt(prompt, sources), add_bos=False\n",
    "        )\n",
    "\n",
    "        self.generator.begin_stream_ex(input_ids, self.settings)\n",
    "\n",
    "        for _ in range(max_new_tokens):\n",
    "            result = self.generator.stream_ex()\n",
    "            if result[\"eos\"]:\n",
    "                break\n",
    "            yield result[\"chunk\"]\n",
    "```\n",
    "\n",
    "</details>"
   ]
  },
  {
   "cell_type": "markdown",
   "id": "ef967823-bc69-4a06-8e72-9b8713fbaf58",
   "metadata": {},
   "source": [
    "## Use the assistant"
   ]
  },
  {
   "cell_type": "code",
   "execution_count": 5,
   "id": "65b07a54-12b0-46b8-8bc0-0531978d179a",
   "metadata": {},
   "outputs": [],
   "source": [
    "from local_llm import Mistral7BInstruct"
   ]
  },
  {
   "cell_type": "code",
   "execution_count": 6,
   "id": "d79a6139-9bb3-4d0d-b338-e9584927b8fe",
   "metadata": {},
   "outputs": [
    {
     "data": {
      "text/plain": [
       "'turboderp/Mistral-7B-v0.2-exl2'"
      ]
     },
     "execution_count": 6,
     "metadata": {},
     "output_type": "execute_result"
    }
   ],
   "source": [
    "Mistral7BInstruct.display_name()"
   ]
  },
  {
   "cell_type": "code",
   "execution_count": 11,
   "id": "24974543-918e-471c-95b7-3af6d4770adc",
   "metadata": {},
   "outputs": [
    {
     "data": {
      "text/plain": [
       "False"
      ]
     },
     "execution_count": 11,
     "metadata": {},
     "output_type": "execute_result"
    }
   ],
   "source": [
    "Mistral7BInstruct.is_available()"
   ]
  },
  {
   "cell_type": "code",
   "execution_count": 9,
   "id": "90f66c85-2b75-4fff-aced-f5cc4da40091",
   "metadata": {},
   "outputs": [],
   "source": [
    "assistant = Mistral7BInstruct()"
   ]
  },
  {
   "cell_type": "code",
   "execution_count": 12,
   "id": "84700998-f92e-4207-aa68-77bdd0c8f82a",
   "metadata": {},
   "outputs": [
    {
     "data": {
      "text/plain": [
       "Message(content=How can I help you with the documents?, role=MessageRole.SYSTEM, sources=[])"
      ]
     },
     "execution_count": 12,
     "metadata": {},
     "output_type": "execute_result"
    }
   ],
   "source": [
    "from ragna import Rag, source_storages\n",
    "\n",
    "documents = [\n",
    "    \"files/psf-report-2022.pdf\",\n",
    "]\n",
    "\n",
    "chat = Rag().chat(\n",
    "    documents=documents,\n",
    "    source_storage=source_storages.Chroma,\n",
    "    assistant=assistant,\n",
    ")\n",
    "\n",
    "await chat.prepare()"
   ]
  },
  {
   "cell_type": "code",
   "execution_count": 13,
   "id": "a719c026-9da5-4d87-9234-7a08bf0171f6",
   "metadata": {},
   "outputs": [
    {
     "name": "stdout",
     "output_type": "stream",
     "text": [
      "The Developer in Residence program is a new initiative to help the Python community grow and thrive. The program will provide funding for developers to work on projects that benefit the Python community. The program will be open to all developers, regardless of their experience level or background. The program will be open to all developers, regardless of their experience level or background. The program will be open to all developers, regardless of their experience level or background. The program will be open to all developers, regardless of their experience level or background. The program will be open to all developers, regardless of their experience level or background. The program will be open to all developers, regardless of their experience level or background. The program will be open to all developers, regardless of their experience level or background. The program will be open to all developers, regardless of their experience level or background. The program will be open to all developers, regardless of their experience level or background. The program will be open to all developers, regardless of their experience level or background. The program will be open to all developers, regardless of their experience level or background. The program will be open to all developers, regardless of their experience level or background. The program will be open to all developers, regardless of their experience level"
     ]
    }
   ],
   "source": [
    "message = await chat.answer(\"What is the Developer in Residence program?\", stream=True)\n",
    "\n",
    "async for chunk in message:\n",
    "    print(chunk, end=\"\")"
   ]
  },
  {
   "cell_type": "code",
   "execution_count": 14,
   "id": "a63ba02c-fd7f-452e-80a3-52ed00723f12",
   "metadata": {
    "scrolled": true
   },
   "outputs": [
    {
     "name": "stdout",
     "output_type": "stream",
     "text": [
      " 1,281K\n",
      "Grants (9.7%)   |   $ 215K\n",
      "Packaging Work Group/Infrastructure/Other (26.6%)   |    $ 589K\n",
      "Fiscal Sponsorees (5.2%)   |    $ 115K\n",
      "Community Awards & Expenses (0.6%)   |    $ 14K\n",
      "Code of Conduct (0.1%)   |    $ 1K\n",
      "Total Program Service Expenses: $2,215K\n",
      "16\n",
      "Growth of Assets\n",
      "Grant Disbursement\n",
      "PSF Asset Trends from 2017-2022\n",
      "PSF Grant Disbursement from 2016-2022\n",
      "($ in thousands)\n",
      "$5,764\n",
      "$6,000\n",
      "$4,903\n",
      "$4,710\n",
      "$5,000\n",
      "$4,134\n",
      "Python Conference Grants (52.9%)\n",
      "PyLadies Workshops (1.1%)\n",
      "$3,531\n",
      "Outreach & Education (5.7%)\n",
      "$3,300\n",
      "$4,000\n",
      "Other Grants (2.6%)\n",
      "Meetup Subscription Grant (4.0%)\n",
      "Kids Coding Camp (1.6%)\n",
      "$3,000\n",
      "Equipment & Hardware (0.4%)\n",
      "Django Girls Workshops (11.8%)\n",
      "Development (6.0%)\n",
      "$2,000\n",
      "Ambassador Program (1.7%)\n",
      "Workshops (3.4%)\n",
      "Training (2.7%)\n",
      "Python Sprints (6.2%)\n",
      "$1,000\n",
      "$0\n",
      "2017\n",
      "2018\n",
      "2020\n",
      "2021\n",
      "2022\n",
      "2019\n",
      "17\n",
      "Grants by Continents\n",
      "In 2022, the grants program focused on virtual events, as well as in-person events. \n",
      "The PSF distributed $215k in grants in 2022, to 138 groups in 42 countries around \n",
      "the world.\n",
      "32%\n",
      "1%\n",
      "25%\n",
      "16%\n",
      "23%\n",
      "3%\n",
      "18\n",
      "SUPPORT US FINANCIALLY! \n",
      "VOLUNTEER\n",
      "\t\n",
      "•\n",
      "Get in touch with us about our \n",
      "sponsorship program or email \n",
      "sponsors@python.org. \n",
      "\t\n",
      "•\n",
      "Rather support the Python commu­\n",
      "nity with your time? We have lots of \n",
      "volunteer opportunities!\n",
      "\t\n",
      "•\n",
      "We can always use folks at PyCon \n",
      "US – either in person or online\n",
      "I’m in!\n",
      ",764\n",
      "$4,903\n",
      "EXPENSES\n",
      "2022\n",
      "2021\n",
      "LIABILITIES\n",
      "2022\n",
      "2021\n",
      "Program Service Expenses\n",
      "$2,214\n",
      "$591\n",
      "Deferred Revenue\n",
      "$966\n",
      "$316\n",
      "Staffing\n",
      "$925\n",
      "$764\n",
      "Accounts Payable & Liabilities\n",
      "$131\n",
      "$176\n",
      "Information Technology\n",
      "$303\n",
      "$265\n",
      "TOTAL LIABILITIES\n",
      "$1,097\n",
      "$492\n",
      "Insurance\n",
      "$103\n",
      "$108\n",
      "Legal\n",
      "$90\n",
      "$151\n",
      "NET ASSETS\n",
      "2022\n",
      "2021\n",
      "Other Expenses\n",
      "$66\n",
      "$81\n",
      "Net Assets without Donor Restrictions\n",
      "$3,273\n",
      "$3,389\n",
      "TOTAL EXPENSES\n",
      "$3,701\n",
      "$1,960\n",
      "Net Assets with Donor Restrictions\n",
      "$1,394\n",
      "$1,022\n",
      "TOTAL NET ASSETS\n",
      "$4,667\n",
      "$4,411\n",
      "NET INCOME\n",
      "$256\n",
      "$629\n",
      "TOTAL LIABILITIES & NET \n",
      "ASSETS\n",
      "$5,764\n",
      "$4,903\n",
      "15\n",
      "Program Service Expenses\n",
      "2022 Expenses by Category\n",
      "($ in thousands)\n",
      "PyCon US (57.8%)   |   $ 1,281K\n",
      "Grants (9.7%)   |   $ 215K\n",
      "Packaging Work Group/Infrastructure/Other (26.6%)   |    $ 589K\n",
      "Fiscal Sponsorees (5.2%)   |    $ 115K\n",
      "Community Awards & Expenses (0.6%)   |    $ 14K\n",
      "Code of Conduct (0.1%)   |    $ 1K\n",
      "Total Program Service Expenses: $2,215K\n",
      "16\n",
      "Growth of Assets\n",
      "Grant Disbursement\n",
      "PSF Asset Trends from 2017-2022\n",
      "PSF Grant Disbursement from 2016-2022\n",
      "($ in thousands)\n",
      "$5,764\n",
      "$6,000\n",
      "$4,903\n",
      "$4,710\n",
      "$5,000\n",
      "$4,134\n",
      "Python Conference Grants (52.9%)\n",
      "PyLadies Workshops (1.1%)\n",
      "$3,531\n",
      "Outreach & Education (5.7%)\n",
      "$3,300\n",
      "$4,000\n",
      "Other Grants (2.6%)\n",
      "Meetup Subscription Grant (4.0%)\n",
      "Kids Coding Camp (1.6%)\n",
      "$3,\n"
     ]
    }
   ],
   "source": [
    "for source in message.sources:\n",
    "    print(source.content)"
   ]
  },
  {
   "cell_type": "markdown",
   "id": "3c7a2e43-6d6a-46b9-a87d-9b00901d27f9",
   "metadata": {},
   "source": [
    "<hr>\n",
    "\n",
    "**✨ Next: TODO →**\n",
    "\n",
    "<hr>"
   ]
  },
  {
   "cell_type": "code",
   "execution_count": null,
   "id": "007efd5a-7df4-4cbe-b7d6-8ab6fb1216cb",
   "metadata": {},
   "outputs": [],
   "source": []
  }
 ],
 "metadata": {
  "kernelspec": {
   "display_name": "global-global-pycon-de",
   "language": "python",
   "name": "conda-env-global-global-pycon-de-py"
  },
  "language_info": {
   "codemirror_mode": {
    "name": "ipython",
    "version": 3
   },
   "file_extension": ".py",
   "mimetype": "text/x-python",
   "name": "python",
   "nbconvert_exporter": "python",
   "pygments_lexer": "ipython3",
   "version": "3.11.8"
  }
 },
 "nbformat": 4,
 "nbformat_minor": 5
}
